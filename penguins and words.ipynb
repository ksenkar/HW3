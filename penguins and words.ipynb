{
 "cells": [
  {
   "cell_type": "markdown",
   "metadata": {},
   "source": [
    "# Задание 1\n",
    "Нужно нарисовать n пингвинов, где n - целое число от 1 до 9."
   ]
  },
  {
   "cell_type": "code",
   "execution_count": 25,
   "metadata": {},
   "outputs": [
    {
     "name": "stdout",
     "output_type": "stream",
     "text": [
      "сколько пингвинов вы хотите нарисовать? введите число от 1 до 9\n",
      "1\n",
      "   _~_    \n",
      "  (o o)   \n",
      " /  V  \\  \n",
      "/(  _  )\\ \n",
      "  ^^ ^^   \n"
     ]
    }
   ],
   "source": [
    "print('сколько пингвинов вы хотите нарисовать? введите число от 1 до 9')\n",
    "n = int(input())\n",
    "print ('   _~_    ' * n)\n",
    "print ('  (o o)   ' * n)\n",
    "print (' /  V  \\  ' * n)\n",
    "print ('/(  _  )\\ ' * n)\n",
    "print ('  ^^ ^^   ' *n)"
   ]
  },
  {
   "cell_type": "markdown",
   "metadata": {},
   "source": [
    "# Задание 2"
   ]
  },
  {
   "cell_type": "code",
   "execution_count": null,
   "metadata": {},
   "outputs": [],
   "source": []
  }
 ],
 "metadata": {
  "kernelspec": {
   "display_name": "Python 3",
   "language": "python",
   "name": "python3"
  },
  "language_info": {
   "codemirror_mode": {
    "name": "ipython",
    "version": 3
   },
   "file_extension": ".py",
   "mimetype": "text/x-python",
   "name": "python",
   "nbconvert_exporter": "python",
   "pygments_lexer": "ipython3",
   "version": "3.6.4"
  }
 },
 "nbformat": 4,
 "nbformat_minor": 2
}
